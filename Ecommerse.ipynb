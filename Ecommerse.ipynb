{
 "cells": [
  {
   "cell_type": "code",
   "execution_count": 2,
   "id": "14274801-d3e5-4951-9706-3a0a8d4228f0",
   "metadata": {},
   "outputs": [],
   "source": [
    "import pandas as pd\n",
    "import matplotlib.pyplot as plt\n",
    "import seaborn as sns \n",
    "import mysql.connector\n",
    "\n",
    "db=mysql.connector.connect(host=\"localhost\",\n",
    "                           username=\"root\",\n",
    "                           password= \"123456\",\n",
    "                           database =\"Ecommerse\")\n",
    "\n",
    "cur=db.cursor()\n"
   ]
  },
  {
   "cell_type": "markdown",
   "id": "859f5fc0-b7cb-42aa-8838-0e41427c1dff",
   "metadata": {},
   "source": [
    "# List all unique cities where customers are located."
   ]
  },
  {
   "cell_type": "code",
   "execution_count": 51,
   "id": "b829ac5c-0c8d-4a2c-b214-559081fdce67",
   "metadata": {},
   "outputs": [
    {
     "data": {
      "text/html": [
       "<div>\n",
       "<style scoped>\n",
       "    .dataframe tbody tr th:only-of-type {\n",
       "        vertical-align: middle;\n",
       "    }\n",
       "\n",
       "    .dataframe tbody tr th {\n",
       "        vertical-align: top;\n",
       "    }\n",
       "\n",
       "    .dataframe thead th {\n",
       "        text-align: right;\n",
       "    }\n",
       "</style>\n",
       "<table border=\"1\" class=\"dataframe\">\n",
       "  <thead>\n",
       "    <tr style=\"text-align: right;\">\n",
       "      <th></th>\n",
       "      <th>customer_city</th>\n",
       "    </tr>\n",
       "  </thead>\n",
       "  <tbody>\n",
       "    <tr>\n",
       "      <th>0</th>\n",
       "      <td>franca</td>\n",
       "    </tr>\n",
       "    <tr>\n",
       "      <th>1</th>\n",
       "      <td>sao bernardo do campo</td>\n",
       "    </tr>\n",
       "    <tr>\n",
       "      <th>2</th>\n",
       "      <td>sao paulo</td>\n",
       "    </tr>\n",
       "    <tr>\n",
       "      <th>3</th>\n",
       "      <td>mogi das cruzes</td>\n",
       "    </tr>\n",
       "    <tr>\n",
       "      <th>4</th>\n",
       "      <td>campinas</td>\n",
       "    </tr>\n",
       "  </tbody>\n",
       "</table>\n",
       "</div>"
      ],
      "text/plain": [
       "           customer_city\n",
       "0                 franca\n",
       "1  sao bernardo do campo\n",
       "2              sao paulo\n",
       "3        mogi das cruzes\n",
       "4               campinas"
      ]
     },
     "execution_count": 51,
     "metadata": {},
     "output_type": "execute_result"
    }
   ],
   "source": [
    "querry= \"\"\" select distinct customer_city from customers \"\"\"\n",
    "\n",
    "\n",
    "cur.execute(querry)\n",
    "data=cur.fetchall()\n",
    "\n",
    "df=pd.DataFrame(data ,columns=[\" customer_city\"])\n",
    "df.head()"
   ]
  },
  {
   "cell_type": "markdown",
   "id": "34ffd693-e3f5-4e81-9002-30fa205b247c",
   "metadata": {},
   "source": [
    "# Count the number of orders placed in 2017.\n"
   ]
  },
  {
   "cell_type": "code",
   "execution_count": 12,
   "id": "3fbb6dd2-1b51-4446-a4ee-d808fb2e5ce0",
   "metadata": {},
   "outputs": [
    {
     "data": {
      "text/plain": [
       "('total order placed in 2017 are', 45101)"
      ]
     },
     "execution_count": 12,
     "metadata": {},
     "output_type": "execute_result"
    }
   ],
   "source": [
    "querry= \"\"\" select count(order_id) from orders where year(order_purchase_timestamp ) =2017 \"\"\"\n",
    "\n",
    "\n",
    "cur.execute(querry)\n",
    "data=cur.fetchall()\n",
    "\n",
    "\"total order placed in 2017 are\", data[0][0]"
   ]
  },
  {
   "cell_type": "markdown",
   "id": "27913a3d-1cb9-48d2-ae2f-f6c70114ec4c",
   "metadata": {},
   "source": [
    "# Calculate the percentage of orders that were paid in installments.\n"
   ]
  },
  {
   "cell_type": "code",
   "execution_count": 23,
   "id": "f2c4fa4f-3104-4b11-a833-dfa6a0f80a39",
   "metadata": {},
   "outputs": [
    {
     "data": {
      "text/plain": [
       "(' the percentage of order that were paid in installments is',\n",
       " Decimal('49.4176'))"
      ]
     },
     "execution_count": 23,
     "metadata": {},
     "output_type": "execute_result"
    }
   ],
   "source": [
    "querry= \"\"\" select sum(case when payment_installments > 1 then 1\n",
    "else 0 end)/count(*) *100 from payments \"\"\"\n",
    "\n",
    "\n",
    "cur.execute(querry)\n",
    "data=cur.fetchall()\n",
    "\n",
    "\" the percentage of order that were paid in installments is\", data[0][0]"
   ]
  },
  {
   "cell_type": "markdown",
   "id": "f49fa7c7-f326-47da-bc3a-bbdeff934e9f",
   "metadata": {},
   "source": [
    "# Count the number of customers from each state. \n"
   ]
  },
  {
   "cell_type": "code",
   "execution_count": 44,
   "id": "7f2acbff-d49c-4038-bdb6-0108beda65ea",
   "metadata": {},
   "outputs": [
    {
     "data": {
      "text/plain": [
       "<function matplotlib.pyplot.show(close=None, block=None)>"
      ]
     },
     "execution_count": 44,
     "metadata": {},
     "output_type": "execute_result"
    },
    {
     "data": {
      "image/png": "[encoded data removed]",
      "text/plain": [
       "<Figure size 1100x400 with 1 Axes>"
      ]
     },
     "metadata": {},
     "output_type": "display_data"
    }
   ],
   "source": [
    "querry= \"\"\" select customer_state ,count(customer_id)\n",
    "from customers\n",
    "group by customer_state\n",
    "\"\"\"\n",
    "\n",
    "\n",
    "cur.execute(querry)\n",
    "data=cur.fetchall()\n",
    "\n",
    "df=pd.DataFrame(data,columns=[\"state\",\"customer_count\"])\n",
    "df=df.sort_values(by=\"customer_count\", ascending=False )\n",
    "\n",
    "\n",
    "plt.figure(figsize=(11,4))\n",
    "plt.bar(df[\"state\"],df[\"customer_count\"])\n",
    "plt.xsticks=90\n",
    "plt.show"
   ]
  },
  {
   "cell_type": "markdown",
   "id": "a0abee54-5a4f-4edb-ae93-d714f6aeaf91",
   "metadata": {},
   "source": [
    "# Calculate the number of orders per month in 2018."
   ]
  },
  {
   "cell_type": "code",
   "execution_count": 82,
   "id": "8f064b5d-652c-4dee-9946-58849bc3c02e",
   "metadata": {},
   "outputs": [
    {
     "data": {
      "image/png": "[encoded data removed]",
      "text/plain": [
       "<Figure size 1200x600 with 1 Axes>"
      ]
     },
     "metadata": {},
     "output_type": "display_data"
    }
   ],
   "source": [
    "querry= \"\"\" select monthname(order_purchase_timestamp) months, count(order_id) order_counts from orders where  year(order_purchase_timestamp) =2018\n",
    "group by months\n",
    "\"\"\"\n",
    "\n",
    "\n",
    "cur.execute(querry)\n",
    "data=cur.fetchall()\n",
    "\n",
    "df=pd.DataFrame(data,columns=[\"months\",\"order_counts\"])\n",
    "o = [\n",
    "    \"January\", \"February\", \"March\", \"April\", \"May\", \"June\",\n",
    "    \"July\", \"August\", \"September\", \"October\", \"November\", \"December\"\n",
    "]\n",
    "\n",
    "\n",
    "plt.figure(figsize=(12, 6))\n",
    "ax=sns.barplot(x=\"months\", y=\"order_counts\", data=df, order=o ,color=\"green\")\n",
    "\n",
    "plt.xticks(rotation=45)\n",
    "ax.bar_label(ax.containers[0])\n",
    "plt.xlabel(\"Month\")\n",
    "plt.ylabel(\"Number of Orders\")\n",
    "plt.title(\"Orders per Month (2018)\")\n",
    "plt.tight_layout()\n",
    "plt.show()"
   ]
  },
  {
   "cell_type": "markdown",
   "id": "d34f80f4-9069-4a55-866e-0772bd846855",
   "metadata": {},
   "source": [
    "# Find the average number of products per order, grouped by customer city."
   ]
  },
  {
   "cell_type": "code",
   "execution_count": 5,
   "id": "5210b5ca-73be-4878-94f8-b4a64dcb99d2",
   "metadata": {},
   "outputs": [
    {
     "data": {
      "text/html": [
       "<div>\n",
       "<style scoped>\n",
       "    .dataframe tbody tr th:only-of-type {\n",
       "        vertical-align: middle;\n",
       "    }\n",
       "\n",
       "    .dataframe tbody tr th {\n",
       "        vertical-align: top;\n",
       "    }\n",
       "\n",
       "    .dataframe thead th {\n",
       "        text-align: right;\n",
       "    }\n",
       "</style>\n",
       "<table border=\"1\" class=\"dataframe\">\n",
       "  <thead>\n",
       "    <tr style=\"text-align: right;\">\n",
       "      <th></th>\n",
       "      <th>customer_city</th>\n",
       "      <th>avg_products_per_order</th>\n",
       "    </tr>\n",
       "  </thead>\n",
       "  <tbody>\n",
       "    <tr>\n",
       "      <th>0</th>\n",
       "      <td>padre carvalho</td>\n",
       "      <td>7.00</td>\n",
       "    </tr>\n",
       "    <tr>\n",
       "      <th>1</th>\n",
       "      <td>celso ramos</td>\n",
       "      <td>6.50</td>\n",
       "    </tr>\n",
       "    <tr>\n",
       "      <th>2</th>\n",
       "      <td>datas</td>\n",
       "      <td>6.00</td>\n",
       "    </tr>\n",
       "    <tr>\n",
       "      <th>3</th>\n",
       "      <td>candido godoi</td>\n",
       "      <td>6.00</td>\n",
       "    </tr>\n",
       "    <tr>\n",
       "      <th>4</th>\n",
       "      <td>matias olimpio</td>\n",
       "      <td>5.00</td>\n",
       "    </tr>\n",
       "    <tr>\n",
       "      <th>...</th>\n",
       "      <td>...</td>\n",
       "      <td>...</td>\n",
       "    </tr>\n",
       "    <tr>\n",
       "      <th>4105</th>\n",
       "      <td>lagoa da canoa</td>\n",
       "      <td>1.00</td>\n",
       "    </tr>\n",
       "    <tr>\n",
       "      <th>4106</th>\n",
       "      <td>japaratuba</td>\n",
       "      <td>1.00</td>\n",
       "    </tr>\n",
       "    <tr>\n",
       "      <th>4107</th>\n",
       "      <td>sebastiao leal</td>\n",
       "      <td>1.00</td>\n",
       "    </tr>\n",
       "    <tr>\n",
       "      <th>4108</th>\n",
       "      <td>morro agudo de goias</td>\n",
       "      <td>1.00</td>\n",
       "    </tr>\n",
       "    <tr>\n",
       "      <th>4109</th>\n",
       "      <td>padre paraiso</td>\n",
       "      <td>1.00</td>\n",
       "    </tr>\n",
       "  </tbody>\n",
       "</table>\n",
       "<p>4110 rows × 2 columns</p>\n",
       "</div>"
      ],
      "text/plain": [
       "             customer_city avg_products_per_order\n",
       "0           padre carvalho                   7.00\n",
       "1              celso ramos                   6.50\n",
       "2                    datas                   6.00\n",
       "3            candido godoi                   6.00\n",
       "4           matias olimpio                   5.00\n",
       "...                    ...                    ...\n",
       "4105        lagoa da canoa                   1.00\n",
       "4106            japaratuba                   1.00\n",
       "4107        sebastiao leal                   1.00\n",
       "4108  morro agudo de goias                   1.00\n",
       "4109         padre paraiso                   1.00\n",
       "\n",
       "[4110 rows x 2 columns]"
      ]
     },
     "execution_count": 5,
     "metadata": {},
     "output_type": "execute_result"
    }
   ],
   "source": [
    "query = \"\"\"\n",
    "SELECT \n",
    "    c.customer_city,\n",
    "    ROUND(AVG(order_counts.product_count), 2) AS avg_products_per_order\n",
    "FROM (\n",
    "    SELECT \n",
    "        o.order_id,\n",
    "        COUNT(oi.product_id) AS product_count,\n",
    "        o.customer_id\n",
    "    FROM orders o\n",
    "    JOIN order_items oi ON o.order_id = oi.order_id\n",
    "    GROUP BY o.order_id, o.customer_id\n",
    ") AS order_counts\n",
    "JOIN customers c ON c.customer_id = order_counts.customer_id\n",
    "GROUP BY c.customer_city\n",
    "ORDER BY avg_products_per_order DESC;\n",
    "\"\"\"\n",
    "\n",
    "cur.execute(query)\n",
    "data = cur.fetchall()\n",
    "\n",
    "df = pd.DataFrame(data, columns=[\"customer_city\", \"avg_products_per_order\"])\n",
    "df\n"
   ]
  },
  {
   "cell_type": "markdown",
   "id": "04ac3c81-c1d9-4625-800e-6bf2927b7280",
   "metadata": {},
   "source": [
    "# Calculate the total revenue generated by each seller"
   ]
  },
  {
   "cell_type": "code",
   "execution_count": 13,
   "id": "3ce9f501-5532-4f14-8975-20b1b5eb9a57",
   "metadata": {},
   "outputs": [
    {
     "data": {
      "text/html": [
       "<div>\n",
       "<style scoped>\n",
       "    .dataframe tbody tr th:only-of-type {\n",
       "        vertical-align: middle;\n",
       "    }\n",
       "\n",
       "    .dataframe tbody tr th {\n",
       "        vertical-align: top;\n",
       "    }\n",
       "\n",
       "    .dataframe thead th {\n",
       "        text-align: right;\n",
       "    }\n",
       "</style>\n",
       "<table border=\"1\" class=\"dataframe\">\n",
       "  <thead>\n",
       "    <tr style=\"text-align: right;\">\n",
       "      <th></th>\n",
       "      <th>seller_id</th>\n",
       "      <th>paymeny_value</th>\n",
       "    </tr>\n",
       "  </thead>\n",
       "  <tbody>\n",
       "    <tr>\n",
       "      <th>0</th>\n",
       "      <td>dd7ddc04e1b6c2c614352b383efe2d36</td>\n",
       "      <td>16061.360107</td>\n",
       "    </tr>\n",
       "    <tr>\n",
       "      <th>1</th>\n",
       "      <td>cc419e0650a3c5ba77189a1882b7556a</td>\n",
       "      <td>141309.580055</td>\n",
       "    </tr>\n",
       "    <tr>\n",
       "      <th>2</th>\n",
       "      <td>1f50f920176fa81dab994f9023523100</td>\n",
       "      <td>290253.420128</td>\n",
       "    </tr>\n",
       "    <tr>\n",
       "      <th>3</th>\n",
       "      <td>822bad9bc42b51213ba522fe87b7ab5d</td>\n",
       "      <td>5774.740028</td>\n",
       "    </tr>\n",
       "    <tr>\n",
       "      <th>4</th>\n",
       "      <td>cea729054f157f5870bdd321a958d994</td>\n",
       "      <td>3458.130013</td>\n",
       "    </tr>\n",
       "    <tr>\n",
       "      <th>...</th>\n",
       "      <td>...</td>\n",
       "      <td>...</td>\n",
       "    </tr>\n",
       "    <tr>\n",
       "      <th>3090</th>\n",
       "      <td>3e51f9cbe317bc3a88f2c76583811ee4</td>\n",
       "      <td>84.779999</td>\n",
       "    </tr>\n",
       "    <tr>\n",
       "      <th>3091</th>\n",
       "      <td>499185655c29ecfdbfe776ef7cf875b5</td>\n",
       "      <td>106.330002</td>\n",
       "    </tr>\n",
       "    <tr>\n",
       "      <th>3092</th>\n",
       "      <td>e908c0f3646e8b60375734a350d95d71</td>\n",
       "      <td>3009.530029</td>\n",
       "    </tr>\n",
       "    <tr>\n",
       "      <th>3093</th>\n",
       "      <td>497709c2976a8fa308730a2dec5b0726</td>\n",
       "      <td>188.080002</td>\n",
       "    </tr>\n",
       "    <tr>\n",
       "      <th>3094</th>\n",
       "      <td>d1aa1ec0839dcab73a6161130eb1f94a</td>\n",
       "      <td>136.039993</td>\n",
       "    </tr>\n",
       "  </tbody>\n",
       "</table>\n",
       "<p>3095 rows × 2 columns</p>\n",
       "</div>"
      ],
      "text/plain": [
       "                             seller_id  paymeny_value\n",
       "0     dd7ddc04e1b6c2c614352b383efe2d36   16061.360107\n",
       "1     cc419e0650a3c5ba77189a1882b7556a  141309.580055\n",
       "2     1f50f920176fa81dab994f9023523100  290253.420128\n",
       "3     822bad9bc42b51213ba522fe87b7ab5d    5774.740028\n",
       "4     cea729054f157f5870bdd321a958d994    3458.130013\n",
       "...                                ...            ...\n",
       "3090  3e51f9cbe317bc3a88f2c76583811ee4      84.779999\n",
       "3091  499185655c29ecfdbfe776ef7cf875b5     106.330002\n",
       "3092  e908c0f3646e8b60375734a350d95d71    3009.530029\n",
       "3093  497709c2976a8fa308730a2dec5b0726     188.080002\n",
       "3094  d1aa1ec0839dcab73a6161130eb1f94a     136.039993\n",
       "\n",
       "[3095 rows x 2 columns]"
      ]
     },
     "execution_count": 13,
     "metadata": {},
     "output_type": "execute_result"
    }
   ],
   "source": [
    "querry= \"\"\" select order_items.seller_id ,sum(payments.payment_value)\n",
    "from order_items join payments\n",
    "on order_items.order_id = payments.order_id\n",
    "group by order_items.seller_id\n",
    "\"\"\"\n",
    "\n",
    "\n",
    "cur.execute(querry)\n",
    "data=cur.fetchall()\n",
    "df=pd.DataFrame(data, columns=[\"seller_id\",\"paymeny_value\"])\n",
    "df\n",
    "\n"
   ]
  },
  {
   "cell_type": "markdown",
   "id": "4fa756f3-32c9-445c-b7d8-349153fa7fd5",
   "metadata": {},
   "source": [
    "# Identify the top 3 customers who spent the most money in each year."
   ]
  },
  {
   "cell_type": "code",
   "execution_count": 3,
   "id": "25b21296-8b2c-40c2-9c66-b8e8c19a4509",
   "metadata": {},
   "outputs": [
    {
     "data": {
      "text/html": [
       "<div>\n",
       "<style scoped>\n",
       "    .dataframe tbody tr th:only-of-type {\n",
       "        vertical-align: middle;\n",
       "    }\n",
       "\n",
       "    .dataframe tbody tr th {\n",
       "        vertical-align: top;\n",
       "    }\n",
       "\n",
       "    .dataframe thead th {\n",
       "        text-align: right;\n",
       "    }\n",
       "</style>\n",
       "<table border=\"1\" class=\"dataframe\">\n",
       "  <thead>\n",
       "    <tr style=\"text-align: right;\">\n",
       "      <th></th>\n",
       "      <th>order_year</th>\n",
       "      <th>customer_id</th>\n",
       "      <th>total_payment</th>\n",
       "      <th>payment_rank</th>\n",
       "    </tr>\n",
       "  </thead>\n",
       "  <tbody>\n",
       "    <tr>\n",
       "      <th>0</th>\n",
       "      <td>2016</td>\n",
       "      <td>a9dc96b027d1252bbac0a9b72d837fc6</td>\n",
       "      <td>1423.550049</td>\n",
       "      <td>1</td>\n",
       "    </tr>\n",
       "    <tr>\n",
       "      <th>1</th>\n",
       "      <td>2016</td>\n",
       "      <td>1d34ed25963d5aae4cf3d7f3a4cda173</td>\n",
       "      <td>1400.739990</td>\n",
       "      <td>2</td>\n",
       "    </tr>\n",
       "    <tr>\n",
       "      <th>2</th>\n",
       "      <td>2016</td>\n",
       "      <td>4a06381959b6670756de02e07b83815f</td>\n",
       "      <td>1227.780029</td>\n",
       "      <td>3</td>\n",
       "    </tr>\n",
       "    <tr>\n",
       "      <th>3</th>\n",
       "      <td>2016</td>\n",
       "      <td>1fc56719b52f82c03caddc5faf531fbb</td>\n",
       "      <td>982.409973</td>\n",
       "      <td>4</td>\n",
       "    </tr>\n",
       "    <tr>\n",
       "      <th>4</th>\n",
       "      <td>2016</td>\n",
       "      <td>85f0e92957e9fb9c5f72ba5378f492a0</td>\n",
       "      <td>979.909973</td>\n",
       "      <td>5</td>\n",
       "    </tr>\n",
       "    <tr>\n",
       "      <th>...</th>\n",
       "      <td>...</td>\n",
       "      <td>...</td>\n",
       "      <td>...</td>\n",
       "      <td>...</td>\n",
       "    </tr>\n",
       "    <tr>\n",
       "      <th>99435</th>\n",
       "      <td>2018</td>\n",
       "      <td>8e4bd65db637116b6b68109e4df21b84</td>\n",
       "      <td>10.890000</td>\n",
       "      <td>20895</td>\n",
       "    </tr>\n",
       "    <tr>\n",
       "      <th>99436</th>\n",
       "      <td>2018</td>\n",
       "      <td>a790343ca6f3fee08112d678b43aa7c5</td>\n",
       "      <td>9.590000</td>\n",
       "      <td>20896</td>\n",
       "    </tr>\n",
       "    <tr>\n",
       "      <th>99437</th>\n",
       "      <td>2018</td>\n",
       "      <td>a73c1f73f5772cf801434bf984b0b1a7</td>\n",
       "      <td>0.000000</td>\n",
       "      <td>20897</td>\n",
       "    </tr>\n",
       "    <tr>\n",
       "      <th>99438</th>\n",
       "      <td>2018</td>\n",
       "      <td>197a2a6a77da93f678ea0d379f21da0a</td>\n",
       "      <td>0.000000</td>\n",
       "      <td>20897</td>\n",
       "    </tr>\n",
       "    <tr>\n",
       "      <th>99439</th>\n",
       "      <td>2018</td>\n",
       "      <td>3532ba38a3fd242259a514ac2b6ae6b6</td>\n",
       "      <td>0.000000</td>\n",
       "      <td>20897</td>\n",
       "    </tr>\n",
       "  </tbody>\n",
       "</table>\n",
       "<p>99440 rows × 4 columns</p>\n",
       "</div>"
      ],
      "text/plain": [
       "       order_year                       customer_id  total_payment  \\\n",
       "0            2016  a9dc96b027d1252bbac0a9b72d837fc6    1423.550049   \n",
       "1            2016  1d34ed25963d5aae4cf3d7f3a4cda173    1400.739990   \n",
       "2            2016  4a06381959b6670756de02e07b83815f    1227.780029   \n",
       "3            2016  1fc56719b52f82c03caddc5faf531fbb     982.409973   \n",
       "4            2016  85f0e92957e9fb9c5f72ba5378f492a0     979.909973   \n",
       "...           ...                               ...            ...   \n",
       "99435        2018  8e4bd65db637116b6b68109e4df21b84      10.890000   \n",
       "99436        2018  a790343ca6f3fee08112d678b43aa7c5       9.590000   \n",
       "99437        2018  a73c1f73f5772cf801434bf984b0b1a7       0.000000   \n",
       "99438        2018  197a2a6a77da93f678ea0d379f21da0a       0.000000   \n",
       "99439        2018  3532ba38a3fd242259a514ac2b6ae6b6       0.000000   \n",
       "\n",
       "       payment_rank  \n",
       "0                 1  \n",
       "1                 2  \n",
       "2                 3  \n",
       "3                 4  \n",
       "4                 5  \n",
       "...             ...  \n",
       "99435         20895  \n",
       "99436         20896  \n",
       "99437         20897  \n",
       "99438         20897  \n",
       "99439         20897  \n",
       "\n",
       "[99440 rows x 4 columns]"
      ]
     },
     "execution_count": 3,
     "metadata": {},
     "output_type": "execute_result"
    }
   ],
   "source": [
    "query = \"\"\"\n",
    "SELECT \n",
    "    YEAR(o.order_purchase_timestamp) AS order_year,\n",
    "    o.customer_id,\n",
    "    SUM(p.payment_value) AS total_payment,\n",
    "    DENSE_RANK() OVER (\n",
    "        PARTITION BY YEAR(o.order_purchase_timestamp)\n",
    "        ORDER BY SUM(p.payment_value) DESC\n",
    "    ) AS payment_rank\n",
    "FROM \n",
    "    orders o\n",
    "JOIN \n",
    "    payments p \n",
    "    ON o.order_id = p.order_id\n",
    "GROUP BY \n",
    "    YEAR(o.order_purchase_timestamp), o.customer_id\n",
    "ORDER BY \n",
    "    order_year, payment_rank;\n",
    "\"\"\"\n",
    "\n",
    "cur.execute(query)\n",
    "data = cur.fetchall()\n",
    "\n",
    "df=pd.DataFrame(data, columns=[\"order_year\", \"customer_id\", \"total_payment\", \"payment_rank\"])\n",
    "df"
   ]
  },
  {
   "cell_type": "markdown",
   "id": "ae260ef2-4129-4a68-b561-9f3e5f6d88f5",
   "metadata": {},
   "source": [
    "# Find total revenue generated per month in 2018"
   ]
  },
  {
   "cell_type": "code",
   "execution_count": 9,
   "id": "d690a727-30c7-463f-a043-a045c2ef5743",
   "metadata": {},
   "outputs": [
    {
     "data": {
      "image/png": "[encoded data removed]",
      "text/plain": [
       "<Figure size 1200x600 with 1 Axes>"
      ]
     },
     "metadata": {},
     "output_type": "display_data"
    }
   ],
   "source": [
    "query = \"\"\"\n",
    "SELECT \n",
    "    MONTHNAME(order_purchase_timestamp) AS month_name,\n",
    "    ROUND(SUM(payment_value), 2) AS total_revenue\n",
    "FROM orders\n",
    "JOIN payments ON orders.order_id = payments.order_id\n",
    "WHERE YEAR(order_purchase_timestamp) = 2018\n",
    "GROUP BY MONTH(order_purchase_timestamp), MONTHNAME(order_purchase_timestamp)\n",
    "ORDER BY MONTH(order_purchase_timestamp);\n",
    "\"\"\"\n",
    "\n",
    "cur.execute(query)\n",
    "data = cur.fetchall()\n",
    "\n",
    "df = pd.DataFrame(data, columns=[\"month_name\", \"total_revenue\"])\n",
    "plt.figure(figsize=(12, 6))\n",
    "plt.bar(df[\"month_name\"], df[\"total_revenue\"])\n",
    "plt.xlabel(\"Month\")\n",
    "plt.ylabel(\"Total Revenue\")\n",
    "plt.title(\"Total Revenue by Month (2018)\")\n",
    "plt.show()"
   ]
  },
  {
   "cell_type": "code",
   "execution_count": null,
   "id": "a083bec5-6623-47c8-901a-40316c6df28c",
   "metadata": {},
   "outputs": [],
   "source": []
  }
 ],
 "metadata": {
  "kernelspec": {
   "display_name": "Python 3 (ipykernel)",
   "language": "python",
   "name": "python3"
  },
  "language_info": {
   "codemirror_mode": {
    "name": "ipython",
    "version": 3
   },
   "file_extension": ".py",
   "mimetype": "text/x-python",
   "name": "python",
   "nbconvert_exporter": "python",
   "pygments_lexer": "ipython3",
   "version": "3.13.5"
  }
 },
 "nbformat": 4,
 "nbformat_minor": 5
}
